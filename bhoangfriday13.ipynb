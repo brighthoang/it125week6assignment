{
 "cells": [
  {
   "cell_type": "code",
   "execution_count": 94,
   "id": "7957f8fa",
   "metadata": {
    "scrolled": true
   },
   "outputs": [],
   "source": [
    "import pandas as pd\n",
    "import numpy as np\n",
    "import scipy.stats as st\n",
    "from statsmodels.stats.weightstats import ztest"
   ]
  },
  {
   "cell_type": "code",
   "execution_count": 53,
   "id": "fbfc3a2b",
   "metadata": {},
   "outputs": [
    {
     "data": {
      "text/html": [
       "<div>\n",
       "<style scoped>\n",
       "    .dataframe tbody tr th:only-of-type {\n",
       "        vertical-align: middle;\n",
       "    }\n",
       "\n",
       "    .dataframe tbody tr th {\n",
       "        vertical-align: top;\n",
       "    }\n",
       "\n",
       "    .dataframe thead th {\n",
       "        text-align: right;\n",
       "    }\n",
       "</style>\n",
       "<table border=\"1\" class=\"dataframe\">\n",
       "  <thead>\n",
       "    <tr style=\"text-align: right;\">\n",
       "      <th></th>\n",
       "      <th>year</th>\n",
       "      <th>month</th>\n",
       "      <th>date_of_month</th>\n",
       "      <th>day_of_week</th>\n",
       "      <th>births</th>\n",
       "    </tr>\n",
       "  </thead>\n",
       "  <tbody>\n",
       "    <tr>\n",
       "      <th>0</th>\n",
       "      <td>2000</td>\n",
       "      <td>1</td>\n",
       "      <td>1</td>\n",
       "      <td>6</td>\n",
       "      <td>9083</td>\n",
       "    </tr>\n",
       "    <tr>\n",
       "      <th>1</th>\n",
       "      <td>2000</td>\n",
       "      <td>1</td>\n",
       "      <td>2</td>\n",
       "      <td>7</td>\n",
       "      <td>8006</td>\n",
       "    </tr>\n",
       "    <tr>\n",
       "      <th>2</th>\n",
       "      <td>2000</td>\n",
       "      <td>1</td>\n",
       "      <td>3</td>\n",
       "      <td>1</td>\n",
       "      <td>11363</td>\n",
       "    </tr>\n",
       "    <tr>\n",
       "      <th>3</th>\n",
       "      <td>2000</td>\n",
       "      <td>1</td>\n",
       "      <td>4</td>\n",
       "      <td>2</td>\n",
       "      <td>13032</td>\n",
       "    </tr>\n",
       "    <tr>\n",
       "      <th>4</th>\n",
       "      <td>2000</td>\n",
       "      <td>1</td>\n",
       "      <td>5</td>\n",
       "      <td>3</td>\n",
       "      <td>12558</td>\n",
       "    </tr>\n",
       "    <tr>\n",
       "      <th>5</th>\n",
       "      <td>2000</td>\n",
       "      <td>1</td>\n",
       "      <td>6</td>\n",
       "      <td>4</td>\n",
       "      <td>12466</td>\n",
       "    </tr>\n",
       "  </tbody>\n",
       "</table>\n",
       "</div>"
      ],
      "text/plain": [
       "   year  month  date_of_month  day_of_week  births\n",
       "0  2000      1              1            6    9083\n",
       "1  2000      1              2            7    8006\n",
       "2  2000      1              3            1   11363\n",
       "3  2000      1              4            2   13032\n",
       "4  2000      1              5            3   12558\n",
       "5  2000      1              6            4   12466"
      ]
     },
     "execution_count": 53,
     "metadata": {},
     "output_type": "execute_result"
    }
   ],
   "source": [
    "df = pd.read_csv(\"https://docs.google.com/spreadsheets/d/e/2PACX-1vTSf55z1QYrnW-DfQZSHQYWZH3_jY-DtUa4ZfveiACv3Pw4Q_nXrhNu7RH3oJBkJbDJyqQC05_XNSuw/pub?gid=733781827&single=true&output=csv\")\n",
    "df.head(6)"
   ]
  },
  {
   "cell_type": "code",
   "execution_count": 81,
   "id": "5fc6414b",
   "metadata": {},
   "outputs": [
    {
     "name": "stdout",
     "output_type": "stream",
     "text": [
      "mean and standard deviation of average births:\n",
      "mean:  11350.068260631502\n",
      "std:  2325.6087910558854\n"
     ]
    }
   ],
   "source": [
    "totalbirths = df[\"births\"]\n",
    "print(\"mean and standard deviation of average births:\")\n",
    "print(\"mean: \", np.mean(totalbirths))\n",
    "print(\"std: \", np.std(totalbirths))"
   ]
  },
  {
   "cell_type": "code",
   "execution_count": 55,
   "id": "8971b802",
   "metadata": {
    "scrolled": true
   },
   "outputs": [
    {
     "data": {
      "text/html": [
       "<div>\n",
       "<style scoped>\n",
       "    .dataframe tbody tr th:only-of-type {\n",
       "        vertical-align: middle;\n",
       "    }\n",
       "\n",
       "    .dataframe tbody tr th {\n",
       "        vertical-align: top;\n",
       "    }\n",
       "\n",
       "    .dataframe thead th {\n",
       "        text-align: right;\n",
       "    }\n",
       "</style>\n",
       "<table border=\"1\" class=\"dataframe\">\n",
       "  <thead>\n",
       "    <tr style=\"text-align: right;\">\n",
       "      <th></th>\n",
       "      <th>year</th>\n",
       "      <th>month</th>\n",
       "      <th>date_of_month</th>\n",
       "      <th>day_of_week</th>\n",
       "      <th>births</th>\n",
       "    </tr>\n",
       "  </thead>\n",
       "  <tbody>\n",
       "    <tr>\n",
       "      <th>6</th>\n",
       "      <td>2000</td>\n",
       "      <td>1</td>\n",
       "      <td>7</td>\n",
       "      <td>5</td>\n",
       "      <td>12516</td>\n",
       "    </tr>\n",
       "    <tr>\n",
       "      <th>13</th>\n",
       "      <td>2000</td>\n",
       "      <td>1</td>\n",
       "      <td>14</td>\n",
       "      <td>5</td>\n",
       "      <td>12180</td>\n",
       "    </tr>\n",
       "    <tr>\n",
       "      <th>20</th>\n",
       "      <td>2000</td>\n",
       "      <td>1</td>\n",
       "      <td>21</td>\n",
       "      <td>5</td>\n",
       "      <td>11953</td>\n",
       "    </tr>\n",
       "    <tr>\n",
       "      <th>27</th>\n",
       "      <td>2000</td>\n",
       "      <td>1</td>\n",
       "      <td>28</td>\n",
       "      <td>5</td>\n",
       "      <td>11934</td>\n",
       "    </tr>\n",
       "    <tr>\n",
       "      <th>34</th>\n",
       "      <td>2000</td>\n",
       "      <td>2</td>\n",
       "      <td>4</td>\n",
       "      <td>5</td>\n",
       "      <td>12035</td>\n",
       "    </tr>\n",
       "    <tr>\n",
       "      <th>41</th>\n",
       "      <td>2000</td>\n",
       "      <td>2</td>\n",
       "      <td>11</td>\n",
       "      <td>5</td>\n",
       "      <td>12411</td>\n",
       "    </tr>\n",
       "  </tbody>\n",
       "</table>\n",
       "</div>"
      ],
      "text/plain": [
       "    year  month  date_of_month  day_of_week  births\n",
       "6   2000      1              7            5   12516\n",
       "13  2000      1             14            5   12180\n",
       "20  2000      1             21            5   11953\n",
       "27  2000      1             28            5   11934\n",
       "34  2000      2              4            5   12035\n",
       "41  2000      2             11            5   12411"
      ]
     },
     "execution_count": 55,
     "metadata": {},
     "output_type": "execute_result"
    }
   ],
   "source": [
    "allfridays = df[df[\"day_of_week\"] == 5]\n",
    "allfridays.head(6)"
   ]
  },
  {
   "cell_type": "code",
   "execution_count": 80,
   "id": "c2cac4bf",
   "metadata": {},
   "outputs": [
    {
     "name": "stdout",
     "output_type": "stream",
     "text": [
      "mean and standard deviation of births on fridays:\n",
      "mean:  12596.162404092072\n",
      "std:  985.000097611664\n"
     ]
    }
   ],
   "source": [
    "fridaybirths = allfridays[\"births\"]\n",
    "print(\"mean and standard deviation of births on fridays:\")\n",
    "print(\"mean: \", np.mean(fridaybirths))\n",
    "print(\"std: \", np.std(fridaybirths))"
   ]
  },
  {
   "cell_type": "code",
   "execution_count": 65,
   "id": "89f180c2",
   "metadata": {},
   "outputs": [
    {
     "data": {
      "text/plain": [
       "286     11723\n",
       "468     10881\n",
       "559     12187\n",
       "986     13028\n",
       "1077    11600\n",
       "1259    12013\n",
       "Name: births, dtype: int64"
      ]
     },
     "execution_count": 65,
     "metadata": {},
     "output_type": "execute_result"
    }
   ],
   "source": [
    "friday13births = fridaybirths[df[\"date_of_month\"] == 13]\n",
    "friday13births.head(6)"
   ]
  },
  {
   "cell_type": "code",
   "execution_count": 82,
   "id": "c57f38ab",
   "metadata": {
    "scrolled": true
   },
   "outputs": [
    {
     "name": "stdout",
     "output_type": "stream",
     "text": [
      "mean and standard deviation of births on friday the 13th:\n",
      "mean:  11949.96\n",
      "std:  568.4896818764611\n"
     ]
    }
   ],
   "source": [
    "print(\"mean and standard deviation of births on friday the 13th:\")\n",
    "print(\"mean: \", np.mean(friday13births))\n",
    "print(\"std: \", np.std(friday13births))"
   ]
  },
  {
   "cell_type": "code",
   "execution_count": 105,
   "id": "c416cef5",
   "metadata": {},
   "outputs": [
    {
     "name": "stdout",
     "output_type": "stream",
     "text": [
      "Ttest_1sampResult(statistic=5.170176039886515, pvalue=2.7025061283396573e-05)\n"
     ]
    }
   ],
   "source": [
    "print(st.ttest_1samp(friday13births, 11350))"
   ]
  },
  {
   "cell_type": "code",
   "execution_count": 103,
   "id": "3a7004d6",
   "metadata": {},
   "outputs": [
    {
     "name": "stdout",
     "output_type": "stream",
     "text": [
      "although my work may have not been quite correct or clean, the p-value is well under the alpha score of .05,\n",
      "      rejecting the null hypothesis that the amount of births on friday the 13th is the same as the normal average.\n"
     ]
    }
   ],
   "source": [
    "print(\"\"\"although my work may have not been quite correct or clean, the p-value is well under the alpha score of .05,\n",
    "      rejecting the null hypothesis that the amount of births on friday the 13th is the same as the normal average.\"\"\")"
   ]
  },
  {
   "cell_type": "code",
   "execution_count": null,
   "id": "e1ebd3a5",
   "metadata": {},
   "outputs": [],
   "source": []
  }
 ],
 "metadata": {
  "kernelspec": {
   "display_name": "Python 3 (ipykernel)",
   "language": "python",
   "name": "python3"
  },
  "language_info": {
   "codemirror_mode": {
    "name": "ipython",
    "version": 3
   },
   "file_extension": ".py",
   "mimetype": "text/x-python",
   "name": "python",
   "nbconvert_exporter": "python",
   "pygments_lexer": "ipython3",
   "version": "3.9.5"
  }
 },
 "nbformat": 4,
 "nbformat_minor": 5
}
